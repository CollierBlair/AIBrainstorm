{
 "cells": [
  {
   "cell_type": "markdown",
   "metadata": {},
   "source": [
    "# THIS PART IS DOING THIS"
   ]
  },
  {
   "cell_type": "code",
   "execution_count": null,
   "metadata": {},
   "outputs": [],
   "source": []
  },
  {
   "cell_type": "markdown",
   "metadata": {},
   "source": [
    "# Python Walkthrough"
   ]
  },
  {
   "cell_type": "code",
   "execution_count": null,
   "metadata": {},
   "outputs": [],
   "source": [
    "# my_list = [34,65,84]\n",
    "# my_list[-2]\n",
    "\n",
    "\n",
    "dictionary = {\n",
    "    \"OPENAI_KEY\": \"mykey\",\n",
    "    0: \"myvalue\",\n",
    "}\n",
    "\n",
    "dictionary[0]"
   ]
  },
  {
   "cell_type": "markdown",
   "metadata": {},
   "source": [
    "# CONCAT"
   ]
  },
  {
   "cell_type": "code",
   "execution_count": 13,
   "metadata": {},
   "outputs": [
    {
     "name": "stdout",
     "output_type": "stream",
     "text": [
      "this, 1\n"
     ]
    }
   ],
   "source": [
    "str1 = \"this\"\n",
    "str2 = \"that\"\n",
    "# concatenated = str1 + str2\n",
    "# print(concatenated)\n",
    "# print()\n",
    "\n",
    "# concatenated = str1 + \"ANOTHER STRING\"\n",
    "# print(concatenated)\n",
    "# print()\n",
    "\n",
    "# print(str(1))\n",
    "this_is_my_fstring = f\"{str1}, {1}\"\n",
    "print()\n",
    "\n"
   ]
  },
  {
   "cell_type": "code",
   "execution_count": 29,
   "metadata": {},
   "outputs": [
    {
     "data": {
      "text/plain": [
       "'james, 12.00'"
      ]
     },
     "execution_count": 29,
     "metadata": {},
     "output_type": "execute_result"
    }
   ],
   "source": [
    "# string_example =s\n",
    "# name, age\n",
    "\n",
    "def my_function(name: str, age=12):\n",
    "    return f\"{name}, {age:.2f}\"\n",
    "\n",
    "my_function(\"james\")\n"
   ]
  },
  {
   "cell_type": "code",
   "execution_count": 27,
   "metadata": {},
   "outputs": [
    {
     "ename": "TypeError",
     "evalue": "unsupported operand type(s) for /: 'str' and 'int'",
     "output_type": "error",
     "traceback": [
      "\u001b[0;31m---------------------------------------------------------------------------\u001b[0m",
      "\u001b[0;31mTypeError\u001b[0m                                 Traceback (most recent call last)",
      "Cell \u001b[0;32mIn[27], line 1\u001b[0m\n\u001b[0;32m----> 1\u001b[0m \u001b[38;5;28mprint\u001b[39m(\u001b[38;5;124;43m\"\u001b[39;49m\u001b[38;5;124;43mJAMES\u001b[39;49m\u001b[38;5;124;43m\"\u001b[39;49m\u001b[38;5;241;43m/\u001b[39;49m\u001b[38;5;241;43m3\u001b[39;49m)\n",
      "\u001b[0;31mTypeError\u001b[0m: unsupported operand type(s) for /: 'str' and 'int'"
     ]
    }
   ],
   "source": []
  },
  {
   "cell_type": "code",
   "execution_count": 56,
   "metadata": {},
   "outputs": [
    {
     "data": {
      "text/plain": [
       "{'MY_ENV': 'myenv'}"
      ]
     },
     "execution_count": 56,
     "metadata": {},
     "output_type": "execute_result"
    }
   ],
   "source": [
    "from mydotenv import load_env\n",
    "load_env(\"SF\")"
   ]
  },
  {
   "cell_type": "code",
   "execution_count": 76,
   "metadata": {},
   "outputs": [],
   "source": [
    "class Person:\n",
    "    def __init__(self, name: str, age: int):\n",
    "        self.name = name\n",
    "        self.age = age\n",
    "\n",
    "    def get_name(self) -> str:\n",
    "        return self.name\n",
    "\n",
    "\n",
    "me = Person(name=\"John\", age=25)\n"
   ]
  },
  {
   "cell_type": "code",
   "execution_count": 49,
   "metadata": {},
   "outputs": [
    {
     "name": "stdout",
     "output_type": "stream",
     "text": [
      "2\n"
     ]
    }
   ],
   "source": [
    "a = 2\n",
    "print(a)"
   ]
  },
  {
   "cell_type": "markdown",
   "metadata": {},
   "source": [
    "# Project code"
   ]
  },
  {
   "cell_type": "code",
   "execution_count": 31,
   "metadata": {},
   "outputs": [],
   "source": [
    "from openai import OpenAI\n",
    "from dotenv import dotenv_values\n",
    "# import dotenv\n",
    "\n",
    "config = dotenv_values(\".env\")\n",
    "\n",
    "openai_key = config.get(\"OPENAI_KEY\")\n",
    "\n",
    "if not openai_key:\n",
    "    raise ValueError(\"No OPENAI_KEY key found in .env file\")\n"
   ]
  },
  {
   "cell_type": "code",
   "execution_count": 34,
   "metadata": {},
   "outputs": [],
   "source": [
    "client = OpenAI(\n",
    "    api_key=openai_key,\n",
    ")\n",
    "\n",
    "response = client.chat.completions.create(\n",
    "  model=\"gpt-3.5-turbo\",\n",
    "  messages=[\n",
    "    {\"role\": \"system\", \n",
    "     \"content\": \"You are a angry assistant.\"},\n",
    "     {\"role\": \"user\", \n",
    "     \"content\": \"What is 2 + 1?\"},\n",
    "  ]\n",
    ")"
   ]
  },
  {
   "cell_type": "code",
   "execution_count": 40,
   "metadata": {},
   "outputs": [],
   "source": [
    "ai_response = response.choices[0].message.content\n"
   ]
  },
  {
   "cell_type": "code",
   "execution_count": 42,
   "metadata": {},
   "outputs": [],
   "source": [
    "from typing import Dict\n",
    "\n",
    "def update_message_history(history: Dict, new_message: str, role: bool):\n",
    "    new_message = {\"role\": role, \"content\": new_message} \n",
    "    history.append(new_message)\n",
    "\n",
    "\n",
    "\n",
    "history = [\n",
    "    {\"role\": \"system\", \n",
    "     \"content\": \"You are a angry assistant.\"},\n",
    "]\n",
    "\n",
    "update_message_history(\n",
    "    history=history,\n",
    "    new_message=\"HEY!\",\n",
    "    role=\"user\"\n",
    ")\n"
   ]
  },
  {
   "cell_type": "code",
   "execution_count": null,
   "metadata": {},
   "outputs": [],
   "source": [
    "def commandline_chat():\n",
    "    history = [\n",
    "    {\"role\": \"system\", \n",
    "     \"content\": \"You are a angry assistant.\"},\n",
    "    ]\n",
    "    while True:\n",
    "        user_msg = input(\"User: \")\n",
    "\n",
    "        update_message_history(\n",
    "            history=history,\n",
    "            new_message=user_msg,\n",
    "            role=\"user\"\n",
    "        )\n",
    "\n",
    "        response = client.chat.completions.create(\n",
    "            model=\"gpt-3.5-turbo\",\n",
    "            messages=history\n",
    "        )\n",
    "        \n",
    "        ai_response = response.choices[0].message.content\n",
    "\n",
    "        print(f\"ANGRY AI: {ai_response}\")\n",
    "\n",
    "        update_message_history(\n",
    "            history=history,\n",
    "            new_message=ai_response,\n",
    "            role=\"assistant\"\n",
    "        )\n",
    "\n",
    "\n",
    "\n"
   ]
  },
  {
   "cell_type": "code",
   "execution_count": null,
   "metadata": {},
   "outputs": [],
   "source": [
    "import openai\n",
    "from dotenv import dotenv_values\n",
    "\n",
    "config = dotenv_values(\".env\")\n"
   ]
  }
 ],
 "metadata": {
  "kernelspec": {
   "display_name": "Python 3",
   "language": "python",
   "name": "python3"
  },
  "language_info": {
   "codemirror_mode": {
    "name": "ipython",
    "version": 3
   },
   "file_extension": ".py",
   "mimetype": "text/x-python",
   "name": "python",
   "nbconvert_exporter": "python",
   "pygments_lexer": "ipython3",
   "version": "3.11.4"
  }
 },
 "nbformat": 4,
 "nbformat_minor": 2
}
